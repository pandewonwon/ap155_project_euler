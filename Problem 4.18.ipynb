{
 "cells": [
  {
   "cell_type": "code",
   "execution_count": 5,
   "id": "b553a901-6475-4a5e-8582-10167fdccf3f",
   "metadata": {},
   "outputs": [],
   "source": [
    "import numpy as np\n",
    "#some line of codes were AI-assisted from ChatGPT"
   ]
  },
  {
   "cell_type": "code",
   "execution_count": 6,
   "id": "ef0300df-543b-46a4-8919-1215f78dceea",
   "metadata": {},
   "outputs": [],
   "source": [
    "def jacobi_cyclic_tridiagonal(n, tol=1e-5, max_iter=10000):\n",
    "    x_old = np.zeros(n)\n",
    "    x_new = np.zeros(n)\n",
    "\n",
    "    for k in range(max_iter):\n",
    "        # x0\n",
    "        x_new[0] = (1 + x_old[-1] + x_old[1]) / 4.0\n",
    "        # xi for 1..n-2\n",
    "        for i in range(1, n-1):\n",
    "            x_new[i] = (1 + x_old[i-1] + x_old[i+1]) / 4.0\n",
    "        # x_{n-1}\n",
    "        x_new[-1] = (1 + x_old[0] + x_old[-2]) / 4.0\n",
    "\n",
    "        if np.linalg.norm(x_new - x_old, np.inf) < tol:\n",
    "            return x_new, k+1  # converged\n",
    "        x_old[:] = x_new\n",
    "    return x_new, max_iter  # did not converge within max_iter"
   ]
  },
  {
   "cell_type": "code",
   "execution_count": 8,
   "id": "fc632048-c718-41cf-914a-25d7e3eb2750",
   "metadata": {},
   "outputs": [
    {
     "name": "stdout",
     "output_type": "stream",
     "text": [
      "n=10 solution after 16 iterations:\n",
      " [0.49999237 0.49999237 0.49999237 0.49999237 0.49999237 0.49999237\n",
      " 0.49999237 0.49999237 0.49999237 0.49999237]\n",
      "n=20 solution after 16 iterations:\n",
      " [0.49999237 0.49999237 0.49999237 0.49999237 0.49999237 0.49999237\n",
      " 0.49999237 0.49999237 0.49999237 0.49999237 0.49999237 0.49999237\n",
      " 0.49999237 0.49999237 0.49999237 0.49999237 0.49999237 0.49999237\n",
      " 0.49999237 0.49999237]\n",
      "Exact solution (numpy.linalg.solve) n=10:\n",
      " [0.5 0.5 0.5 0.5 0.5 0.5 0.5 0.5 0.5 0.5]\n"
     ]
    }
   ],
   "source": [
    "#For n=10\n",
    "x10, iters10 = jacobi_cyclic_tridiagonal(10)\n",
    "print(\"n=10 solution after\", iters10, \"iterations:\\n\", x10)\n",
    "\n",
    "#For n=20\n",
    "x20, iters20 = jacobi_cyclic_tridiagonal(20)\n",
    "print(\"n=20 solution after\", iters20, \"iterations:\\n\", x20)\n",
    "\n",
    "# Compare with numpy.linalg.solve (explicit A,b) for n=10\n",
    "def build_A_b(n):\n",
    "    A = np.zeros((n,n))\n",
    "    b = np.ones(n)\n",
    "    for i in range(n):\n",
    "        A[i,i] = 4\n",
    "        A[i,(i-1)%n] = -1\n",
    "        A[i,(i+1)%n] = -1\n",
    "    return A,b\n",
    "\n",
    "A10,b10 = build_A_b(10)\n",
    "x_exact10 = np.linalg.solve(A10,b10)\n",
    "print(\"Exact solution (numpy.linalg.solve) n=10:\\n\", x_exact10)"
   ]
  },
  {
   "cell_type": "code",
   "execution_count": null,
   "id": "0c4e9578-632c-4833-830d-b586eaef4541",
   "metadata": {},
   "outputs": [],
   "source": []
  }
 ],
 "metadata": {
  "kernelspec": {
   "display_name": "Python [conda env:base] *",
   "language": "python",
   "name": "conda-base-py"
  },
  "language_info": {
   "codemirror_mode": {
    "name": "ipython",
    "version": 3
   },
   "file_extension": ".py",
   "mimetype": "text/x-python",
   "name": "python",
   "nbconvert_exporter": "python",
   "pygments_lexer": "ipython3",
   "version": "3.12.11"
  }
 },
 "nbformat": 4,
 "nbformat_minor": 5
}
