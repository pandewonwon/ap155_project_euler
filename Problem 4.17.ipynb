{
 "cells": [
  {
   "cell_type": "code",
   "execution_count": 11,
   "id": "2abcff2c-8a02-4957-93b4-d96e31a9d469",
   "metadata": {},
   "outputs": [],
   "source": [
    "import numpy as np\n",
    "#some line of codes were AI-assisted from ChatGPT"
   ]
  },
  {
   "cell_type": "code",
   "execution_count": 12,
   "id": "8fa22ba3-ee97-4c79-869e-108d76557f0f",
   "metadata": {},
   "outputs": [],
   "source": [
    "A = np.array([4., 4, 8, 4,\n",
    "              4, 5, 3, 7,\n",
    "              8, 3, 9, 9,\n",
    "              4, 7, 9, 5]).reshape(4, 4)\n",
    "b = np.array([1., 2, 3, 4])"
   ]
  },
  {
   "cell_type": "code",
   "execution_count": 13,
   "id": "de091f1a-5ad4-4beb-bc5f-8a91d4602b55",
   "metadata": {},
   "outputs": [
    {
     "name": "stdout",
     "output_type": "stream",
     "text": [
      "Step 0, Awork:\n",
      "[[ 4.  4.  8.  4.]\n",
      " [ 0.  1. -5.  3.]\n",
      " [ 0. -5. -7.  1.]\n",
      " [ 0.  3.  1.  1.]]\n",
      " bwork:[1. 1. 1. 3.]\n",
      "\n",
      "Step 1, Awork:\n",
      "[[  4.   4.   8.   4.]\n",
      " [  0.   1.  -5.   3.]\n",
      " [  0.   0. -32.  16.]\n",
      " [  0.   0.  16.  -8.]]\n",
      " bwork:[1. 1. 6. 0.]\n",
      "\n",
      "Step 2, Awork:\n",
      "[[  4.   4.   8.   4.]\n",
      " [  0.   1.  -5.   3.]\n",
      " [  0.   0. -32.  16.]\n",
      " [  0.   0.   0.   0.]]\n",
      " bwork:[1. 1. 6. 3.]\n",
      "\n",
      "Upper-triangular Awork (U):\n",
      " [[  4.   4.   8.   4.]\n",
      " [  0.   1.  -5.   3.]\n",
      " [  0.   0. -32.  16.]\n",
      " [  0.   0.   0.   0.]]\n",
      "Modified b (after elimination):\n",
      " [1. 1. 6. 3.]\n",
      "Cannot back-substitute: last pivot is zero (matrix is singular)\n"
     ]
    }
   ],
   "source": [
    "n = A.shape[0]\n",
    "Awork = A.copy().astype(float)\n",
    "bwork = b.copy().astype(float)\n",
    "\n",
    "# Forward elimination (no pivoting)\n",
    "for k in range(n-1):\n",
    "    pivot = Awork[k, k]\n",
    "    if abs(pivot) < 1e-19:\n",
    "        print(f\"Zero (or tiny) pivot encountered at row {k}\")\n",
    "        break\n",
    "    for i in range(k+1, n):\n",
    "        m = Awork[i, k] / pivot\n",
    "        Awork[i, k:] -= m * Awork[k, k:]\n",
    "        bwork[i] -= m * bwork[k]\n",
    "    print(f\"Step {k}, Awork:\\n{Awork}\\n bwork:{bwork}\\n\")\n",
    "\n",
    "print(\"Upper-triangular Awork (U):\\n\", Awork)\n",
    "print(\"Modified b (after elimination):\\n\", bwork)\n",
    "\n",
    "# Back substitution if no zero pivot:\n",
    "if abs(Awork[-1,-1]) > 1e-19:\n",
    "    x = np.zeros(n)\n",
    "    for i in range(n-1, -1, -1):\n",
    "        x[i] = (bwork[i] - np.dot(Awork[i, i+1:], x[i+1:]))/Awork[i,i]\n",
    "    print(\"Solution x = \", x)\n",
    "else:\n",
    "    print(\"Cannot back-substitute: last pivot is zero (matrix is singular)\")\n"
   ]
  },
  {
   "cell_type": "code",
   "execution_count": 14,
   "id": "64480595-6b80-47ff-8e0e-d93fba86d4d6",
   "metadata": {},
   "outputs": [
    {
     "name": "stdout",
     "output_type": "stream",
     "text": [
      "Step 0, after pivoting Awork:\n",
      "[[  4.   4.   8.   4.]\n",
      " [  0.   1.  -5.   3.]\n",
      " [  0.   0. -32.  16.]\n",
      " [  0.   0.   0.   0.]]\n",
      "bwork:[1. 1. 6. 3.]\n",
      "\n",
      "Step 1, after pivoting Awork:\n",
      "[[  4.   4.   8.   4.]\n",
      " [  0.   1.  -5.   3.]\n",
      " [  0.   0. -32.  16.]\n",
      " [  0.   0.   0.   0.]]\n",
      "bwork:[1. 1. 6. 3.]\n",
      "\n",
      "Step 2, after pivoting Awork:\n",
      "[[  4.   4.   8.   4.]\n",
      " [  0.   1.  -5.   3.]\n",
      " [  0.   0. -32.  16.]\n",
      " [  0.   0.   0.   0.]]\n",
      "bwork:[1. 1. 6. 3.]\n",
      "\n",
      "Upper-triangular Awork (U):\n",
      " [[  4.   4.   8.   4.]\n",
      " [  0.   1.  -5.   3.]\n",
      " [  0.   0. -32.  16.]\n",
      " [  0.   0.   0.   0.]]\n",
      "Modified b (after elimination):\n",
      " [1. 1. 6. 3.]\n",
      "Cannot back-substitute: last pivot is zero (matrix is singular)\n"
     ]
    }
   ],
   "source": [
    "# Forward elimination with partial pivoting\n",
    "for k in range(n-1):\n",
    "    # Find pivot row (largest absolute value in column k below k)\n",
    "    pivot_row = np.argmax(np.abs(Awork[k:, k])) + k\n",
    "    if pivot_row != k:\n",
    "        # swap rows in Awork and bwork\n",
    "        Awork[[k, pivot_row]] = Awork[[pivot_row, k]]\n",
    "        bwork[[k, pivot_row]] = bwork[[pivot_row, k]]\n",
    "    pivot = Awork[k, k]\n",
    "    if abs(pivot) < 1e-19:\n",
    "        print(f\"Zero pivot at step {k} even after pivoting. Matrix is singular.\")\n",
    "        break\n",
    "    for i in range(k+1, n):\n",
    "        m = Awork[i, k] / pivot\n",
    "        Awork[i, k:] -= m * Awork[k, k:]\n",
    "        bwork[i] -= m * bwork[k]\n",
    "    print(f\"Step {k}, after pivoting Awork:\\n{Awork}\\nbwork:{bwork}\\n\")\n",
    "\n",
    "print(\"Upper-triangular Awork (U):\\n\", Awork)\n",
    "print(\"Modified b (after elimination):\\n\", bwork)\n",
    "\n",
    "# Back substitution if last pivot is nonzero\n",
    "if abs(Awork[-1,-1]) > 1e-19:\n",
    "    x = np.zeros(n)\n",
    "    for i in range(n-1, -1, -1):\n",
    "        x[i] = (bwork[i] - np.dot(Awork[i, i+1:], x[i+1:])) / Awork[i,i]\n",
    "    print(\"Solution x =\", x)\n",
    "else:\n",
    "    print(\"Cannot back-substitute: last pivot is zero (matrix is singular)\")"
   ]
  },
  {
   "cell_type": "code",
   "execution_count": null,
   "id": "bb86609b-58bc-4e81-8451-f63d781b005e",
   "metadata": {},
   "outputs": [],
   "source": []
  }
 ],
 "metadata": {
  "kernelspec": {
   "display_name": "Python [conda env:base] *",
   "language": "python",
   "name": "conda-base-py"
  },
  "language_info": {
   "codemirror_mode": {
    "name": "ipython",
    "version": 3
   },
   "file_extension": ".py",
   "mimetype": "text/x-python",
   "name": "python",
   "nbconvert_exporter": "python",
   "pygments_lexer": "ipython3",
   "version": "3.12.11"
  }
 },
 "nbformat": 4,
 "nbformat_minor": 5
}
