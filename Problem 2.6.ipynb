{
 "cells": [
  {
   "cell_type": "code",
   "execution_count": 1,
   "id": "3891bf15-6e46-4f6c-8e0f-e79f081e3589",
   "metadata": {},
   "outputs": [],
   "source": [
    "import matplotlib.pyplot as plt\n",
    "import numpy as np\n",
    "\n",
    "from decimal import Decimal\n",
    "from fractions import Fraction"
   ]
  },
  {
   "cell_type": "code",
   "execution_count": null,
   "id": "865196b7-dd6d-41aa-bc7d-e5e6b6bb836d",
   "metadata": {},
   "outputs": [],
   "source": [
    "#Take the standard quadratic equation: ax^2+bx+c=0, whose solutions are:\n",
    "#x+_=(-b^2+_\\sqrt(b^2-4ac))/(2a)\n",
    "#Take b>0 for concreteness. It is easy to see that when b^2>>ac we don't get a catastrophic cancellation when evaluating b^2-4ac (we may still\n",
    "#get a \"benign\" cancellation). Furthermore, \\sqrt(b^2-4ac) approx. b. However, this means that x+ will involve catastrophic cancellation in the \n",
    "#numerator. We will employ an analytical trick in order to help us preserve significant figures. Observe that the product of the two roots obeys \n",
    "#the relation: x+x-=c/a. The answer now presents itself: use the equation to calculate x-, for which no catastrophic cancellation takes place. \n",
    "#Then, use x+x-=c/a to calculate x+. Notice that you ended up calculating x+ via division only (i.e., without a catastrophic cancellation).\n",
    "#Write a Python code that evaluates and prints out: (a)x-, (b)x+ using the \"bad\" formula, and (c)x+ using the \"good\" formula.\n",
    "#Take a=1,c=1,b=10^8. Discuss the naswers."
   ]
  },
  {
   "cell_type": "code",
   "execution_count": 30,
   "id": "2d49ddd2-8d0c-44f7-8b1a-4462c0332630",
   "metadata": {},
   "outputs": [
    {
     "name": "stdout",
     "output_type": "stream",
     "text": [
      "x_plus_bad 0.0\n",
      "x_minus -99999999.99999999\n",
      "There is a catastrophic cancellation in solving x_plus when b>>a\n"
     ]
    }
   ],
   "source": [
    "a=np.float128(1)\n",
    "c=np.float128(1)\n",
    "b=np.float128(10.0**8)\n",
    "\n",
    "x_plus_bad=(-b+np.sqrt(b**2-4*a*c))/(2*a)\n",
    "x_minus=(-b-np.sqrt(b**2-4*a*c))/(2*a)\n",
    "\n",
    "print(\"x_plus_bad\", x_plus)\n",
    "print(\"x_minus\",x_minus)\n",
    "print(\"There is a catastrophic cancellation in solving x_plus when b>>a\")"
   ]
  },
  {
   "cell_type": "code",
   "execution_count": 31,
   "id": "e7141eaf-c39b-4d7f-9460-ffa31b7e2996",
   "metadata": {},
   "outputs": [
    {
     "name": "stdout",
     "output_type": "stream",
     "text": [
      "x_plus_good -1.0000000000000001e-08\n"
     ]
    }
   ],
   "source": [
    "x_plus_good=(c)/(a*x_minus)\n",
    "\n",
    "print(\"x_plus_good\",x_plus_good)"
   ]
  },
  {
   "cell_type": "code",
   "execution_count": 43,
   "id": "d18fb666-07e3-4839-8e5b-21797982d18d",
   "metadata": {},
   "outputs": [
    {
     "name": "stdout",
     "output_type": "stream",
     "text": [
      "x_plus_bad with different b values\n",
      "-0.10102051443364380365\n",
      "-0.010001000200050014222\n",
      "-0.0010000010000019987633\n",
      "-0.000100000000999855842565\n",
      "-9.99999999962142283e-06\n",
      "-9.999999974752427079e-07\n",
      "-9.999985195463523269e-08\n",
      "-1.0000803740695118904e-08\n",
      "-9.895302355289459229e-10\n"
     ]
    }
   ],
   "source": [
    "a=np.float128(1)\n",
    "c=np.float128(1)\n",
    "\n",
    "print(\"x_plus_bad with different b values\")\n",
    "\n",
    "for i in range(1,10):\n",
    "    b=np.float128(10.0**i)\n",
    "    x_plus_bad=(-b+np.sqrt(b**2-4*a*c))/(2*a)\n",
    "    print(x_plus_bad)"
   ]
  },
  {
   "cell_type": "code",
   "execution_count": null,
   "id": "6a8ee5b3-9c69-4e7b-bc8c-a5680b4c441d",
   "metadata": {},
   "outputs": [],
   "source": []
  }
 ],
 "metadata": {
  "kernelspec": {
   "display_name": "Python 3 (ipykernel)",
   "language": "python",
   "name": "python3"
  },
  "language_info": {
   "codemirror_mode": {
    "name": "ipython",
    "version": 3
   },
   "file_extension": ".py",
   "mimetype": "text/x-python",
   "name": "python",
   "nbconvert_exporter": "python",
   "pygments_lexer": "ipython3",
   "version": "3.12.11"
  }
 },
 "nbformat": 4,
 "nbformat_minor": 5
}
