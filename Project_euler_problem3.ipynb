{
 "cells": [
  {
   "cell_type": "code",
   "execution_count": null,
   "id": "9e7f6bb5-015f-4f37-9208-e851319b9739",
   "metadata": {},
   "outputs": [],
   "source": [
    "Problem 3:\n",
    "The prime factor of 13195 are 5,7,13, and 29.\n",
    "What is the largest prime factor of the number 600851475143?"
   ]
  },
  {
   "cell_type": "code",
   "execution_count": 4,
   "id": "44552d1b-9ebd-457e-8fe4-1d85deadab99",
   "metadata": {},
   "outputs": [
    {
     "name": "stdout",
     "output_type": "stream",
     "text": [
      "Prime factors: [71, 839, 1471, 6857]\n",
      "Largest prime factor: 6857\n"
     ]
    }
   ],
   "source": [
    "def is_prime(n):\n",
    "    if n < 2:\n",
    "        return False\n",
    "    if n == 2:\n",
    "        return True\n",
    "    if n % 2 == 0:\n",
    "        return False\n",
    "    i = 3\n",
    "    while i * i <= n:\n",
    "        if n % i == 0:\n",
    "            return False\n",
    "        i += 2\n",
    "    return True\n",
    "\n",
    "my_num = 600851475143\n",
    "divisor = 2\n",
    "factors = []\n",
    "\n",
    "while divisor * divisor <= my_num:\n",
    "    if my_num % divisor == 0:\n",
    "        factors.append(divisor)\n",
    "        my_num //= divisor  # reduce the number\n",
    "    else:\n",
    "        divisor += 1\n",
    "\n",
    "# the remaining my_num is also a factor (if > 1)\n",
    "if my_num > 1:\n",
    "    factors.append(my_num)\n",
    "\n",
    "prime_factors = [f for f in factors if is_prime(f)]\n",
    "print(\"Prime factors:\", prime_factors)\n",
    "print(\"Largest prime factor:\", max(prime_factors))"
   ]
  },
  {
   "cell_type": "code",
   "execution_count": null,
   "id": "804e3c84-c0e2-4373-b890-9fa751b9cdb6",
   "metadata": {},
   "outputs": [],
   "source": []
  }
 ],
 "metadata": {
  "kernelspec": {
   "display_name": "Python 3 (ipykernel)",
   "language": "python",
   "name": "python3"
  },
  "language_info": {
   "codemirror_mode": {
    "name": "ipython",
    "version": 3
   },
   "file_extension": ".py",
   "mimetype": "text/x-python",
   "name": "python",
   "nbconvert_exporter": "python",
   "pygments_lexer": "ipython3",
   "version": "3.12.11"
  }
 },
 "nbformat": 4,
 "nbformat_minor": 5
}
