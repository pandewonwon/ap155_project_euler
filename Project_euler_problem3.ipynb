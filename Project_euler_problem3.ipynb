{
 "cells": [
  {
   "cell_type": "code",
   "execution_count": null,
   "id": "9e7f6bb5-015f-4f37-9208-e851319b9739",
   "metadata": {},
   "outputs": [],
   "source": [
    "Problem 3:\n",
    "The prime factor of 13195 are 5,7,13, and 29.\n",
    "What is the largest prime factor of the number 600851475143?"
   ]
  }
 ],
 "metadata": {
  "kernelspec": {
   "display_name": "Python 3 (ipykernel)",
   "language": "python",
   "name": "python3"
  },
  "language_info": {
   "codemirror_mode": {
    "name": "ipython",
    "version": 3
   },
   "file_extension": ".py",
   "mimetype": "text/x-python",
   "name": "python",
   "nbconvert_exporter": "python",
   "pygments_lexer": "ipython3",
   "version": "3.12.11"
  }
 },
 "nbformat": 4,
 "nbformat_minor": 5
}
