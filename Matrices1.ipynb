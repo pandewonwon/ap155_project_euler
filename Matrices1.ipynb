{
 "cells": [
  {
   "cell_type": "code",
   "execution_count": 74,
   "id": "1c0bc509-e58b-4d26-93e1-747708894575",
   "metadata": {},
   "outputs": [],
   "source": [
    "import numpy as np\n",
    "import matplotlib.pyplot as plt"
   ]
  },
  {
   "cell_type": "code",
   "execution_count": 75,
   "id": "c9500831-f266-4c81-bded-b45bd5cc54cd",
   "metadata": {},
   "outputs": [],
   "source": [
    "N=10\n",
    "r1,r2,r3,r4=1,1,1,1\n",
    "vin=5"
   ]
  },
  {
   "cell_type": "code",
   "execution_count": 76,
   "id": "5334e005-b360-4503-8cd2-92ae481384a9",
   "metadata": {},
   "outputs": [
    {
     "name": "stdout",
     "output_type": "stream",
     "text": [
      "coefficient matrix\n",
      "[[ 3. -1. -1.  0.  0.  0.  0.  0.  0.  0.]\n",
      " [-1.  4. -1. -1.  0.  0.  0.  0.  0.  0.]\n",
      " [-1. -1.  4. -1. -1.  0.  0.  0.  0.  0.]\n",
      " [ 0. -1. -1.  4. -1. -1.  0.  0.  0.  0.]\n",
      " [ 0.  0. -1. -1.  4. -1. -1.  0.  0.  0.]\n",
      " [ 0.  0.  0. -1. -1.  4. -1. -1.  0.  0.]\n",
      " [ 0.  0.  0.  0. -1. -1.  4. -1. -1.  0.]\n",
      " [ 0.  0.  0.  0.  0. -1. -1.  4. -1. -1.]\n",
      " [ 0.  0.  0.  0.  0.  0. -1. -1.  4. -1.]\n",
      " [ 0.  0.  0.  0.  0.  0.  0. -1. -1.  3.]]\n"
     ]
    }
   ],
   "source": [
    "def A_matrix(N):\n",
    "    A = np.zeros((N, N), float)\n",
    "    #First row\n",
    "    A[0,0]=3\n",
    "    A[0,1]=-1\n",
    "    A[0,2]=-1\n",
    "    #second row\n",
    "    A[1,0]=-1\n",
    "    A[1,1]=4\n",
    "    A[1,2]=-1\n",
    "    A[1,3]=-1\n",
    "    #middle rows\n",
    "    for i in range(2,N-2):\n",
    "        A[i,i] = 4\n",
    "        A[i,i+1] = -1\n",
    "        A[i,i+2] = -1\n",
    "        A[i,i-1] = -1\n",
    "        A[i,i-2] = -1\n",
    "    #second to the last row\n",
    "    A[N-2,N-2]=4\n",
    "    A[N-2,N-3]=-1\n",
    "    A[N-2,N-4]=-1\n",
    "    A[N-2,N-1]=-1\n",
    "    #last row\n",
    "    A[N-1,N-1]=3\n",
    "    A[N-1,N-2]=-1\n",
    "    A[N-1,N-3]=-1\n",
    "    return A\n",
    "    \n",
    "coeff_matrix=A_matrix(N)\n",
    "print(\"coefficient matrix\")\n",
    "print(coeff_matrix)"
   ]
  },
  {
   "cell_type": "code",
   "execution_count": 77,
   "id": "d10dfa50-5f30-42b2-942a-dcdd35b2330c",
   "metadata": {},
   "outputs": [
    {
     "name": "stdout",
     "output_type": "stream",
     "text": [
      "vin column matrix\n",
      "[[5.]\n",
      " [5.]\n",
      " [0.]\n",
      " [0.]\n",
      " [0.]\n",
      " [0.]\n",
      " [0.]\n",
      " [0.]\n",
      " [0.]\n",
      " [0.]]\n"
     ]
    }
   ],
   "source": [
    "def matrix_vin(N):\n",
    "    v=np.zeros((N,1), float)\n",
    "    v[0,0]=vin\n",
    "    v[1,0]=vin\n",
    "    return v\n",
    "\n",
    "vin_matrix=matrix_v(N)\n",
    "print(\"vin column matrix\")\n",
    "print(vin_matrix)"
   ]
  },
  {
   "cell_type": "code",
   "execution_count": 78,
   "id": "9ec0226c-75cc-4d1e-9a77-d4c290681a51",
   "metadata": {},
   "outputs": [
    {
     "name": "stdout",
     "output_type": "stream",
     "text": [
      "unknown v matrix\n",
      "[[4.12573674]\n",
      " [3.9194499 ]\n",
      " [3.45776031]\n",
      " [3.09430255]\n",
      " [2.69155206]\n",
      " [2.30844794]\n",
      " [1.90569745]\n",
      " [1.54223969]\n",
      " [1.0805501 ]\n",
      " [0.87426326]]\n"
     ]
    }
   ],
   "source": [
    "v_matrix=np.linalg.solve(coeff_matrix,vin_matrix)\n",
    "print(\"unknown v matrix\")\n",
    "print(v_matrix)"
   ]
  },
  {
   "cell_type": "code",
   "execution_count": 79,
   "id": "48f04eca-b480-4d99-8791-57dbc60f4c74",
   "metadata": {},
   "outputs": [
    {
     "name": "stdout",
     "output_type": "stream",
     "text": [
      "source current\n",
      "[0.87426326]\n"
     ]
    }
   ],
   "source": [
    "source_current=vin-v_matrix[0]\n",
    "print(\"source current\")\n",
    "print(source_current)"
   ]
  },
  {
   "cell_type": "code",
   "execution_count": 80,
   "id": "606278ad-f2ca-42e9-ab87-6074342e5395",
   "metadata": {},
   "outputs": [
    {
     "name": "stdout",
     "output_type": "stream",
     "text": [
      "effective resistance\n",
      "[5.71910112]\n"
     ]
    }
   ],
   "source": [
    "R_eff=vin/source_current\n",
    "print(\"effective resistance\")\n",
    "print(R_eff)"
   ]
  },
  {
   "cell_type": "code",
   "execution_count": 83,
   "id": "b647ddbe-192d-4642-8a32-fc47234bdffc",
   "metadata": {},
   "outputs": [
    {
     "data": {
      "image/png": "[encoded data removed]",
      "text/plain": [
       "<Figure size 640x480 with 1 Axes>"
      ]
     },
     "metadata": {},
     "output_type": "display_data"
    }
   ],
   "source": [
    "fig,ax=plt.subplots()\n",
    "\n",
    "def eff_res(vin):\n",
    "    R_eff_N=[]\n",
    "    for N in range(4,50):\n",
    "        coeff_matrix=A_matrix(N)\n",
    "        vin_matrix=matrix_v(N)\n",
    "        v_matrix=np.linalg.solve(coeff_matrix,vin_matrix)\n",
    "        source_current=vin-v_matrix[0]\n",
    "        R_eff=vin/source_current\n",
    "        R_eff_N.append(R_eff)\n",
    "    return R_eff_N\n",
    "\n",
    "Ns=list(range(4,50))\n",
    "R_effective=eff_res(vin)\n",
    "\n",
    "ax.plot(Ns, R_effective, marker='o')\n",
    "ax.set_xlabel('N')\n",
    "ax.set_ylabel('Effective Resistance')\n",
    "ax.set_title('Effective Resistance with increasing N')\n",
    "plt.savefig(\"Matrices1.png\")\n",
    "plt.show()"
   ]
  },
  {
   "cell_type": "code",
   "execution_count": null,
   "id": "6a635ac7-8df0-4706-ab38-d3c9461162aa",
   "metadata": {},
   "outputs": [],
   "source": []
  }
 ],
 "metadata": {
  "kernelspec": {
   "display_name": "Python 3 (ipykernel)",
   "language": "python",
   "name": "python3"
  },
  "language_info": {
   "codemirror_mode": {
    "name": "ipython",
    "version": 3
   },
   "file_extension": ".py",
   "mimetype": "text/x-python",
   "name": "python",
   "nbconvert_exporter": "python",
   "pygments_lexer": "ipython3",
   "version": "3.12.11"
  }
 },
 "nbformat": 4,
 "nbformat_minor": 5
}
