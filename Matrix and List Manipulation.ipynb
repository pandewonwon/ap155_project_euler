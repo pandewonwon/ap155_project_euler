{
 "cells": [
  {
   "cell_type": "code",
   "execution_count": 1,
   "id": "fb49af97-e214-4147-8603-623739eac03b",
   "metadata": {},
   "outputs": [],
   "source": [
    "import random"
   ]
  },
  {
   "cell_type": "code",
   "execution_count": null,
   "id": "88960dcf-9a71-48d5-b429-9d9c11b2d234",
   "metadata": {},
   "outputs": [],
   "source": [
    "#create a function random_integer_matrix(nrows, ncols) that generates a matrix in the form of \n",
    "#list-of-lists whose elements are random integers from 1 to 9. Each sub-list inside the main list \n",
    "#is a row in the matrix"
   ]
  },
  {
   "cell_type": "code",
   "execution_count": 7,
   "id": "4e455528-7cd8-4bf3-ac8b-11b83092fbcd",
   "metadata": {},
   "outputs": [],
   "source": [
    "def random_integer_matrix(nrows,ncols):\n",
    "    output_matrix = []\n",
    "    \n",
    "    for col in range(ncols):\n",
    "        new_col = []\n",
    "        for row in range(nrows):\n",
    "            pick_number = random.randint(1,9)\n",
    "            new_col.append(pick_number)\n",
    "        output_matrix.append(new_col)\n",
    "        \n",
    "    return output_matrix"
   ]
  },
  {
   "cell_type": "code",
   "execution_count": 8,
   "id": "6e79e91f-e186-42ac-9811-fa59d922a91f",
   "metadata": {},
   "outputs": [
    {
     "data": {
      "text/plain": [
       "[[4, 8, 5, 2, 3], [7, 6, 3, 5, 7], [6, 9, 5, 7, 7], [6, 9, 5, 8, 7]]"
      ]
     },
     "execution_count": 8,
     "metadata": {},
     "output_type": "execute_result"
    }
   ],
   "source": [
    "random_integer_matrix(5,4)"
   ]
  },
  {
   "cell_type": "code",
   "execution_count": null,
   "id": "09ef6bdb-5a34-497d-bf75-b6a696812afa",
   "metadata": {},
   "outputs": [],
   "source": [
    "#create a function scalar_product(list1.list2) where you multiple each element at the same index\n",
    "#in the two lists and sum/accumulate the results"
   ]
  },
  {
   "cell_type": "code",
   "execution_count": 20,
   "id": "24b2e2f9-097c-4e8f-9378-f4a7868df3d0",
   "metadata": {},
   "outputs": [],
   "source": [
    "def scalar_product(list1,list2):\n",
    "    product = []\n",
    "    total = 0\n",
    "    \n",
    "    for i in range(len(list1)):\n",
    "        multiplied = list1[i]*list2[i] \n",
    "        total += multiplied\n",
    "        product.append(multiplied)\n",
    "    return total"
   ]
  },
  {
   "cell_type": "code",
   "execution_count": 21,
   "id": "96733d4b-e7cc-4b65-9aa9-e3c90a2b438d",
   "metadata": {},
   "outputs": [
    {
     "name": "stdout",
     "output_type": "stream",
     "text": [
      "32\n"
     ]
    }
   ],
   "source": [
    "list1 = [1,2,3]\n",
    "list2 = [4,5,6]\n",
    "\n",
    "print(scalar_product(list1,list2))"
   ]
  },
  {
   "cell_type": "code",
   "execution_count": null,
   "id": "92571dec-38c1-4daa-9011-c9cb818c7cef",
   "metadata": {},
   "outputs": [],
   "source": [
    "#Create a function transpose_matrix(orig_matrix) which return the transpose of any matrix also\n",
    "#in list-of-lists form. Do not assume the size of the matrix; figure it out within the function."
   ]
  },
  {
   "cell_type": "code",
   "execution_count": 52,
   "id": "41d9f8ad-7b39-4803-b535-46de2f05082b",
   "metadata": {},
   "outputs": [],
   "source": [
    "def transpose_matrix(orig_matrix):\n",
    "    col = len(orig_matrix)\n",
    "    row = len(orig_matrix[0])\n",
    "    \n",
    "    output = []\n",
    "    for i in range(row):\n",
    "        T_row = []\n",
    "        for j in range(col):\n",
    "            T_row.append(0)\n",
    "        output.append(T_row)\n",
    "\n",
    "    for i in range(row):\n",
    "        for j in range(col):\n",
    "            output[i][j] = orig_matrix[j][i]\n",
    "    return output"
   ]
  },
  {
   "cell_type": "code",
   "execution_count": 53,
   "id": "936e51c6-af9d-4073-b8b9-00126c0078bf",
   "metadata": {},
   "outputs": [
    {
     "name": "stdout",
     "output_type": "stream",
     "text": [
      "[[1, 4, 7, 10], [4, 5, 8, 11], [7, 6, 9, 12]]\n"
     ]
    }
   ],
   "source": [
    "orig_matrix = [[1,2,3],[4,5,6],[7,8,9],[10,11,12]]\n",
    "transpose = transpose_matrix(input_matrix)\n",
    "print(transpose)"
   ]
  },
  {
   "cell_type": "code",
   "execution_count": null,
   "id": "850c0b55-f59d-4f32-bf86-45fa60b9525b",
   "metadata": {},
   "outputs": [],
   "source": []
  }
 ],
 "metadata": {
  "kernelspec": {
   "display_name": "Python 3 (ipykernel)",
   "language": "python",
   "name": "python3"
  },
  "language_info": {
   "codemirror_mode": {
    "name": "ipython",
    "version": 3
   },
   "file_extension": ".py",
   "mimetype": "text/x-python",
   "name": "python",
   "nbconvert_exporter": "python",
   "pygments_lexer": "ipython3",
   "version": "3.12.11"
  }
 },
 "nbformat": 4,
 "nbformat_minor": 5
}
